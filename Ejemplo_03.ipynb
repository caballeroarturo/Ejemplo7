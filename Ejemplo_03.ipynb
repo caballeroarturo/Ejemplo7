{
  "nbformat": 4,
  "nbformat_minor": 0,
  "metadata": {
    "colab": {
      "provenance": [],
      "authorship_tag": "ABX9TyMXhW9e3ilk73AUDtmjiCI5",
      "include_colab_link": true
    },
    "kernelspec": {
      "name": "ir",
      "display_name": "R"
    },
    "language_info": {
      "name": "R"
    }
  },
  "cells": [
    {
      "cell_type": "markdown",
      "metadata": {
        "id": "view-in-github",
        "colab_type": "text"
      },
      "source": [
        "<a href=\"https://colab.research.google.com/github/caballeroarturo/Ejemplo7/blob/main/Ejemplo_03.ipynb\" target=\"_parent\"><img src=\"https://colab.research.google.com/assets/colab-badge.svg\" alt=\"Open In Colab\"/></a>"
      ]
    },
    {
      "cell_type": "markdown",
      "source": [
        "# Ejemplo 3. Variantes en la lectura de BDD con R\n",
        "\n",
        "Ahora utilizaremos otra opción para realizar queries a una BDD con la ayuda\n",
        "de dplyr que sustituye a SELECT en MySQL y el operador %>%, hay que recordar\n",
        "que con este comando también podemos realizar búsquedas de forma local.\n",
        "\n",
        "Comenzamos instalando las paqueterías necesarias y cargándolas a R\n",
        "\n",
        "```\n",
        "install.packages(\"pool\")\n",
        "\n",
        "install.packages(\"dbplyr\")\n",
        "\n",
        "```\n",
        "\n"
      ],
      "metadata": {
        "id": "2gtePkfpw8xD"
      }
    },
    {
      "cell_type": "code",
      "source": [
        "install.packages(\"pacman\")"
      ],
      "metadata": {
        "colab": {
          "base_uri": "https://localhost:8080/"
        },
        "id": "5fRcB_Pgxqcd",
        "outputId": "052475f9-6e24-45b0-bdd9-38f2459c70a1"
      },
      "execution_count": 30,
      "outputs": [
        {
          "output_type": "stream",
          "name": "stderr",
          "text": [
            "Installing package into ‘/usr/local/lib/R/site-library’\n",
            "(as ‘lib’ is unspecified)\n",
            "\n"
          ]
        }
      ]
    },
    {
      "cell_type": "code",
      "source": [
        "pacman::p_load(dbplyr,pool,RMySQL,dplyr,DBI)"
      ],
      "metadata": {
        "id": "qxAcj7u8w9DD"
      },
      "execution_count": 31,
      "outputs": []
    },
    {
      "cell_type": "markdown",
      "source": [
        "Se realiza la lectura de la BDD con el comando dbPool, los demás parámetros\n",
        "se siguen utilizando igual que el ejemplo anterior"
      ],
      "metadata": {
        "id": "G-zLUnojxP2m"
      }
    },
    {
      "cell_type": "code",
      "source": [
        "my_db <- dbPool(\n",
        "  RMySQL::MySQL(),\n",
        "  dbname = \"shinydemo\",\n",
        "  host = \"shiny-demo.csa7qlmguqrf.us-east-1.rds.amazonaws.com\",\n",
        "  username = \"guest\",\n",
        "  password = \"guest\"\n",
        ")"
      ],
      "metadata": {
        "id": "ic6nhyrZxS_L"
      },
      "execution_count": 6,
      "outputs": []
    },
    {
      "cell_type": "markdown",
      "source": [
        "Para ver el contenido de la BDD y realizar una búsqueda se procede de la\n",
        "siguiente manera"
      ],
      "metadata": {
        "id": "Kn_CtpruxWCI"
      }
    },
    {
      "cell_type": "code",
      "source": [
        "dbListTables(my_db)"
      ],
      "metadata": {
        "colab": {
          "base_uri": "https://localhost:8080/",
          "height": 34
        },
        "id": "GDumhEUvxa2d",
        "outputId": "2d258e22-1176-47e6-99cb-69b20c0256b4"
      },
      "execution_count": 7,
      "outputs": [
        {
          "output_type": "display_data",
          "data": {
            "text/html": [
              "<style>\n",
              ".list-inline {list-style: none; margin:0; padding: 0}\n",
              ".list-inline>li {display: inline-block}\n",
              ".list-inline>li:not(:last-child)::after {content: \"\\00b7\"; padding: 0 .5ex}\n",
              "</style>\n",
              "<ol class=list-inline><li>'City'</li><li>'Country'</li><li>'CountryLanguage'</li></ol>\n"
            ],
            "text/markdown": "1. 'City'\n2. 'Country'\n3. 'CountryLanguage'\n\n\n",
            "text/latex": "\\begin{enumerate*}\n\\item 'City'\n\\item 'Country'\n\\item 'CountryLanguage'\n\\end{enumerate*}\n",
            "text/plain": [
              "[1] \"City\"            \"Country\"         \"CountryLanguage\""
            ]
          },
          "metadata": {}
        }
      ]
    },
    {
      "cell_type": "code",
      "source": [
        "my_db"
      ],
      "metadata": {
        "colab": {
          "base_uri": "https://localhost:8080/",
          "height": 104
        },
        "id": "DLERardByzxF",
        "outputId": "88ac5437-62b3-40fa-82d3-4eba394cf231"
      },
      "execution_count": 8,
      "outputs": [
        {
          "output_type": "display_data",
          "data": {
            "text/plain": [
              "<Pool> of MySQLConnection objects\n",
              "  Objects checked out: 0\n",
              "  Available in pool: 1\n",
              "  Max size: Inf\n",
              "  Valid: TRUE"
            ]
          },
          "metadata": {}
        }
      ]
    },
    {
      "cell_type": "code",
      "source": [
        "# Obtener los primeros 5 registros de Country\n",
        "\n",
        "my_db %>% tbl(\"Country\") %>% head(5) # library(dplyr)"
      ],
      "metadata": {
        "colab": {
          "base_uri": "https://localhost:8080/",
          "height": 208
        },
        "id": "hDMoyjByxida",
        "outputId": "a66f337f-2ed2-4968-a5ea-4deff1e43363"
      },
      "execution_count": 11,
      "outputs": [
        {
          "output_type": "display_data",
          "data": {
            "text/plain": [
              "\u001b[90m# Source:   SQL [5 x 15]\u001b[39m\n",
              "\u001b[90m# Database: mysql 5.5.5-10.6.16-MariaDB-log [@shiny-demo.csa7qlmguqrf.us-east-1.rds.amazonaws.com:/shinydemo]\u001b[39m\n",
              "  Code  Name    Continent Region SurfaceArea IndepYear Population LifeExpectancy\n",
              "  \u001b[3m\u001b[90m<chr>\u001b[39m\u001b[23m \u001b[3m\u001b[90m<chr>\u001b[39m\u001b[23m   \u001b[3m\u001b[90m<chr>\u001b[39m\u001b[23m     \u001b[3m\u001b[90m<chr>\u001b[39m\u001b[23m        \u001b[3m\u001b[90m<dbl>\u001b[39m\u001b[23m     \u001b[3m\u001b[90m<int>\u001b[39m\u001b[23m      \u001b[3m\u001b[90m<int>\u001b[39m\u001b[23m          \u001b[3m\u001b[90m<dbl>\u001b[39m\u001b[23m\n",
              "\u001b[90m1\u001b[39m ABW   Aruba   North Am… Carib…         193        \u001b[31mNA\u001b[39m     \u001b[4m1\u001b[24m\u001b[4m0\u001b[24m\u001b[4m3\u001b[24m000           78.4\n",
              "\u001b[90m2\u001b[39m AFG   Afghan… Asia      South…      \u001b[4m6\u001b[24m\u001b[4m5\u001b[24m\u001b[4m2\u001b[24m090      \u001b[4m1\u001b[24m919   22\u001b[4m7\u001b[24m\u001b[4m2\u001b[24m\u001b[4m0\u001b[24m000           45.9\n",
              "\u001b[90m3\u001b[39m AGO   Angola  Africa    Centr…     1\u001b[4m2\u001b[24m\u001b[4m4\u001b[24m\u001b[4m6\u001b[24m700      \u001b[4m1\u001b[24m975   12\u001b[4m8\u001b[24m\u001b[4m7\u001b[24m\u001b[4m8\u001b[24m000           38.3\n",
              "\u001b[90m4\u001b[39m AIA   Anguil… North Am… Carib…          96        \u001b[31mNA\u001b[39m       \u001b[4m8\u001b[24m000           76.1\n",
              "\u001b[90m5\u001b[39m ALB   Albania Europe    South…       \u001b[4m2\u001b[24m\u001b[4m8\u001b[24m748      \u001b[4m1\u001b[24m912    3\u001b[4m4\u001b[24m\u001b[4m0\u001b[24m\u001b[4m1\u001b[24m200           71.6\n",
              "\u001b[90m# ℹ 7 more variables: GNP <dbl>, GNPOld <dbl>, LocalName <chr>,\u001b[39m\n",
              "\u001b[90m#   GovernmentForm <chr>, HeadOfState <chr>, Capital <int>, Code2 <chr>\u001b[39m"
            ]
          },
          "metadata": {}
        }
      ]
    },
    {
      "cell_type": "code",
      "source": [
        "df <- my_db %>% # es la conexión\n",
        "  tbl(\"Country\") %>% # extrae la tabla COuntry\n",
        "    select(Code,Name) %>% # selecciona dos campos\n",
        "      as.data.frame() # la vuelve data frame"
      ],
      "metadata": {
        "id": "6mZj6eb0zMRP"
      },
      "execution_count": 26,
      "outputs": []
    },
    {
      "cell_type": "code",
      "source": [
        "head(df)"
      ],
      "metadata": {
        "colab": {
          "base_uri": "https://localhost:8080/",
          "height": 286
        },
        "id": "e5VhfGsvzb7x",
        "outputId": "c3633c9d-4ccd-453d-da90-1eaf2f23fb76"
      },
      "execution_count": 27,
      "outputs": [
        {
          "output_type": "display_data",
          "data": {
            "text/html": [
              "<table class=\"dataframe\">\n",
              "<caption>A data.frame: 6 × 2</caption>\n",
              "<thead>\n",
              "\t<tr><th></th><th scope=col>Code</th><th scope=col>Name</th></tr>\n",
              "\t<tr><th></th><th scope=col>&lt;chr&gt;</th><th scope=col>&lt;chr&gt;</th></tr>\n",
              "</thead>\n",
              "<tbody>\n",
              "\t<tr><th scope=row>1</th><td>ABW</td><td>Aruba      </td></tr>\n",
              "\t<tr><th scope=row>2</th><td>AFG</td><td>Afghanistan</td></tr>\n",
              "\t<tr><th scope=row>3</th><td>AGO</td><td>Angola     </td></tr>\n",
              "\t<tr><th scope=row>4</th><td>AIA</td><td>Anguilla   </td></tr>\n",
              "\t<tr><th scope=row>5</th><td>ALB</td><td>Albania    </td></tr>\n",
              "\t<tr><th scope=row>6</th><td>AND</td><td>Andorra    </td></tr>\n",
              "</tbody>\n",
              "</table>\n"
            ],
            "text/markdown": "\nA data.frame: 6 × 2\n\n| <!--/--> | Code &lt;chr&gt; | Name &lt;chr&gt; |\n|---|---|---|\n| 1 | ABW | Aruba       |\n| 2 | AFG | Afghanistan |\n| 3 | AGO | Angola      |\n| 4 | AIA | Anguilla    |\n| 5 | ALB | Albania     |\n| 6 | AND | Andorra     |\n\n",
            "text/latex": "A data.frame: 6 × 2\n\\begin{tabular}{r|ll}\n  & Code & Name\\\\\n  & <chr> & <chr>\\\\\n\\hline\n\t1 & ABW & Aruba      \\\\\n\t2 & AFG & Afghanistan\\\\\n\t3 & AGO & Angola     \\\\\n\t4 & AIA & Anguilla   \\\\\n\t5 & ALB & Albania    \\\\\n\t6 & AND & Andorra    \\\\\n\\end{tabular}\n",
            "text/plain": [
              "  Code Name       \n",
              "1 ABW  Aruba      \n",
              "2 AFG  Afghanistan\n",
              "3 AGO  Angola     \n",
              "4 AIA  Anguilla   \n",
              "5 ALB  Albania    \n",
              "6 AND  Andorra    "
            ]
          },
          "metadata": {}
        }
      ]
    },
    {
      "cell_type": "code",
      "source": [
        "str(df)"
      ],
      "metadata": {
        "colab": {
          "base_uri": "https://localhost:8080/"
        },
        "id": "kGfYY_GGzW-Q",
        "outputId": "4f279b22-40c5-446b-bc99-5c106dea3e88"
      },
      "execution_count": 28,
      "outputs": [
        {
          "output_type": "stream",
          "name": "stdout",
          "text": [
            "'data.frame':\t239 obs. of  2 variables:\n",
            " $ Code: chr  \"ABW\" \"AFG\" \"AGO\" \"AIA\" ...\n",
            " $ Name: chr  \"Aruba\" \"Afghanistan\" \"Angola\" \"Anguilla\" ...\n"
          ]
        }
      ]
    },
    {
      "cell_type": "markdown",
      "source": [
        "# DBI\n",
        "\n",
        "Otra forma de generar una búsqueda será con la librería DBI, utilizando el\n",
        "comando dbSendQuery"
      ],
      "metadata": {
        "id": "mrX3ASwp0QUo"
      }
    },
    {
      "cell_type": "code",
      "source": [
        "library(DBI)\n",
        "conn <- dbConnect(\n",
        "  drv = RMySQL::MySQL(),\n",
        "  dbname = \"shinydemo\",\n",
        "  host = \"shiny-demo.csa7qlmguqrf.us-east-1.rds.amazonaws.com\",\n",
        "  username = \"guest\",\n",
        "  password = \"guest\"\n",
        "  )"
      ],
      "metadata": {
        "id": "NQ6JZwhzyDyn"
      },
      "execution_count": 32,
      "outputs": []
    },
    {
      "cell_type": "code",
      "source": [
        "query <- \"SELECT * FROM City LIMIT 7;\""
      ],
      "metadata": {
        "id": "gS4raEcM0jNY"
      },
      "execution_count": 36,
      "outputs": []
    },
    {
      "cell_type": "code",
      "source": [
        "rs <- dbSendQuery(conn, query)"
      ],
      "metadata": {
        "id": "ltqC3h0GyHsg"
      },
      "execution_count": 37,
      "outputs": []
    },
    {
      "cell_type": "code",
      "source": [
        "dbFetch(rs)"
      ],
      "metadata": {
        "colab": {
          "base_uri": "https://localhost:8080/",
          "height": 317
        },
        "id": "fJjOiuqSyJJ6",
        "outputId": "2be23c18-5e9c-4c55-8720-8d371b2a7d1c"
      },
      "execution_count": 38,
      "outputs": [
        {
          "output_type": "display_data",
          "data": {
            "text/html": [
              "<table class=\"dataframe\">\n",
              "<caption>A data.frame: 7 × 5</caption>\n",
              "<thead>\n",
              "\t<tr><th scope=col>ID</th><th scope=col>Name</th><th scope=col>CountryCode</th><th scope=col>District</th><th scope=col>Population</th></tr>\n",
              "\t<tr><th scope=col>&lt;dbl&gt;</th><th scope=col>&lt;chr&gt;</th><th scope=col>&lt;chr&gt;</th><th scope=col>&lt;chr&gt;</th><th scope=col>&lt;dbl&gt;</th></tr>\n",
              "</thead>\n",
              "<tbody>\n",
              "\t<tr><td>1</td><td>Kabul         </td><td>AFG</td><td>Kabol        </td><td>1780000</td></tr>\n",
              "\t<tr><td>2</td><td>Qandahar      </td><td>AFG</td><td>Qandahar     </td><td> 237500</td></tr>\n",
              "\t<tr><td>3</td><td>Herat         </td><td>AFG</td><td>Herat        </td><td> 186800</td></tr>\n",
              "\t<tr><td>4</td><td>Mazar-e-Sharif</td><td>AFG</td><td>Balkh        </td><td> 127800</td></tr>\n",
              "\t<tr><td>5</td><td>Amsterdam     </td><td>NLD</td><td>Noord-Holland</td><td> 731200</td></tr>\n",
              "\t<tr><td>6</td><td>Rotterdam     </td><td>NLD</td><td>Zuid-Holland </td><td> 593321</td></tr>\n",
              "\t<tr><td>7</td><td>Haag          </td><td>NLD</td><td>Zuid-Holland </td><td> 440900</td></tr>\n",
              "</tbody>\n",
              "</table>\n"
            ],
            "text/markdown": "\nA data.frame: 7 × 5\n\n| ID &lt;dbl&gt; | Name &lt;chr&gt; | CountryCode &lt;chr&gt; | District &lt;chr&gt; | Population &lt;dbl&gt; |\n|---|---|---|---|---|\n| 1 | Kabul          | AFG | Kabol         | 1780000 |\n| 2 | Qandahar       | AFG | Qandahar      |  237500 |\n| 3 | Herat          | AFG | Herat         |  186800 |\n| 4 | Mazar-e-Sharif | AFG | Balkh         |  127800 |\n| 5 | Amsterdam      | NLD | Noord-Holland |  731200 |\n| 6 | Rotterdam      | NLD | Zuid-Holland  |  593321 |\n| 7 | Haag           | NLD | Zuid-Holland  |  440900 |\n\n",
            "text/latex": "A data.frame: 7 × 5\n\\begin{tabular}{lllll}\n ID & Name & CountryCode & District & Population\\\\\n <dbl> & <chr> & <chr> & <chr> & <dbl>\\\\\n\\hline\n\t 1 & Kabul          & AFG & Kabol         & 1780000\\\\\n\t 2 & Qandahar       & AFG & Qandahar      &  237500\\\\\n\t 3 & Herat          & AFG & Herat         &  186800\\\\\n\t 4 & Mazar-e-Sharif & AFG & Balkh         &  127800\\\\\n\t 5 & Amsterdam      & NLD & Noord-Holland &  731200\\\\\n\t 6 & Rotterdam      & NLD & Zuid-Holland  &  593321\\\\\n\t 7 & Haag           & NLD & Zuid-Holland  &  440900\\\\\n\\end{tabular}\n",
            "text/plain": [
              "  ID Name           CountryCode District      Population\n",
              "1 1  Kabul          AFG         Kabol         1780000   \n",
              "2 2  Qandahar       AFG         Qandahar       237500   \n",
              "3 3  Herat          AFG         Herat          186800   \n",
              "4 4  Mazar-e-Sharif AFG         Balkh          127800   \n",
              "5 5  Amsterdam      NLD         Noord-Holland  731200   \n",
              "6 6  Rotterdam      NLD         Zuid-Holland   593321   \n",
              "7 7  Haag           NLD         Zuid-Holland   440900   "
            ]
          },
          "metadata": {}
        }
      ]
    },
    {
      "cell_type": "code",
      "source": [
        "# Para finalizar nos desconectamos de la BDD\n",
        "\n",
        "dbClearResult(rs)\n",
        "dbDisconnect(conn)"
      ],
      "metadata": {
        "colab": {
          "base_uri": "https://localhost:8080/",
          "height": 52
        },
        "id": "vNDv1d3kyLBg",
        "outputId": "86be554c-b83e-487b-b0f2-2caf308bab42"
      },
      "execution_count": 39,
      "outputs": [
        {
          "output_type": "display_data",
          "data": {
            "text/html": [
              "TRUE"
            ],
            "text/markdown": "TRUE",
            "text/latex": "TRUE",
            "text/plain": [
              "[1] TRUE"
            ]
          },
          "metadata": {}
        },
        {
          "output_type": "display_data",
          "data": {
            "text/html": [
              "TRUE"
            ],
            "text/markdown": "TRUE",
            "text/latex": "TRUE",
            "text/plain": [
              "[1] TRUE"
            ]
          },
          "metadata": {}
        }
      ]
    }
  ]
}